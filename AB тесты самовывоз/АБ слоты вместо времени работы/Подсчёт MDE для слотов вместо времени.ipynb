{
 "cells": [
  {
   "cell_type": "markdown",
   "id": "9e155a45",
   "metadata": {},
   "source": [
    "## Imports"
   ]
  },
  {
   "cell_type": "code",
   "execution_count": 1,
   "id": "7e89670d",
   "metadata": {},
   "outputs": [],
   "source": [
    "import os\n",
    "import pathlib\n",
    "\n",
    "import numpy as np\n",
    "import pandas as pd\n",
    "import sqlalchemy as sa\n",
    "import statsmodels.api as sm\n",
    "import statsmodels.stats.api as sms\n",
    "from dotenv import dotenv_values\n",
    "from scipy.stats import ttest_ind\n",
    "from statsmodels.stats.power import tt_ind_solve_power\n",
    "from tqdm import tqdm\n",
    "from datetime import datetime, timedelta"
   ]
  },
  {
   "cell_type": "code",
   "execution_count": 2,
   "id": "5485ea86",
   "metadata": {},
   "outputs": [],
   "source": [
    "os.environ[\"OMP_NUM_THREADS\"] = \"8\"\n",
    "os.environ[\"MKL_NUM_THREADS\"] = \"8\"\n",
    "os.environ[\"OPENBLAS_NUM_THREADS\"] = \"8\""
   ]
  },
  {
   "cell_type": "code",
   "execution_count": 3,
   "id": "7ee7c3cf-7686-4d61-a61a-19fb52503c72",
   "metadata": {},
   "outputs": [],
   "source": [
    "config = dotenv_values(\"/home/jovyan/.env\") \n",
    "\n",
    "def get_query_clickhouse(q: str) -> pd.DataFrame:\n",
    "    \"\"\"\n",
    "    Function to import credentials and run query\n",
    "    \"\"\"\n",
    "    ch_host = config['CH_HOST']\n",
    "    ch_cert = config['CH_CERT']\n",
    "    ch_port = config['CH_PORT']\n",
    "    ch_db   = config['CH_READ_DB']\n",
    "    ch_user = config['CH_READ_USER']\n",
    "    ch_pass = config['CH_READ_PASS']\n",
    "    \n",
    "    engine = sa.create_engine(\n",
    "        f\"clickhouse+native://{ch_user}:\"\n",
    "        f\"{ch_pass}@{ch_host}:\"\n",
    "        f\"{ch_port}/{ch_db}?secure=True\"\n",
    "    )\n",
    "    return pd.read_sql_query(q, con=engine)"
   ]
  },
  {
   "cell_type": "markdown",
   "id": "a5236282",
   "metadata": {},
   "source": [
    "## Funcs"
   ]
  },
  {
   "cell_type": "code",
   "execution_count": 4,
   "id": "6207b551",
   "metadata": {},
   "outputs": [],
   "source": [
    "def get_MDE(metric, exp_ios_data, obs_ios_data, total_frac=1, test_fraction=0.5, alpha=0.05, power=0.8, optional=False):   \n",
    "    print(f\"Целевая метрика - {metric}\")\n",
    "\n",
    "    alpha = alpha # alpha = 0.05, для которой считаем MDE\n",
    "    power = power # мощность = 0.8, для которой считаем MDE\n",
    "    test_fraction = test_fraction # Тест-контроль 50 на 50\n",
    "    exp_gmv_data = exp_ios_data.copy()\n",
    "    obs_gmv_data = obs_ios_data.copy().rename({metric: \"CUPED_X\"}, axis=1)\n",
    "\n",
    "    gmv_data = exp_gmv_data[[\"anonymous_id\", metric]].merge(obs_gmv_data[[\"anonymous_id\", \"CUPED_X\"]], how=\"left\", on=\"anonymous_id\")\n",
    "    gmv_data = gmv_data.sample(frac=total_frac)\n",
    "\n",
    "    # обработаем юзеров без истории\n",
    "    gmv_data[\"missing_CUPED\"] = 0\n",
    "    gmv_data.loc[gmv_data[\"CUPED_X\"].isna(), \"missing_CUPED\"] = 1\n",
    "    gmv_data = gmv_data.fillna(0)\n",
    "    if optional:\n",
    "        print(f\"Пользователей без истории {gmv_data.missing_CUPED.mean():.4%}\")\n",
    "    # в соответствие с процедурой CUPED'a случайным образом выделим тестовую и контрольную группы\n",
    "\n",
    "    gmv_data[\"treatment\"] = np.random.choice([0,1], size=gmv_data.shape[0])\n",
    "    # применим CUPED, получив по итогу пост-cuped метрику CUPED_GMV\n",
    "    y_control = gmv_data.query(\"treatment==0\")[metric]\n",
    "    X_cov_control = gmv_data.query(\"treatment==0\")[[\"CUPED_X\", \"missing_CUPED\"]]\n",
    "    y_hat = sm.OLS(y_control, X_cov_control).fit().predict(gmv_data[[\"CUPED_X\", \"missing_CUPED\"]])\n",
    "    gmv_data[\"CUPED_GMV\"] = gmv_data[metric] - y_hat\n",
    "    # зафиксируем снижение дисперсии\n",
    "    if optional:\n",
    "        print(f\"\\nИсходная дисперсия = {gmv_data[metric].std():.8}\")\n",
    "        print(f\"Дисперсия после cuped = {gmv_data.CUPED_GMV.std():.8}\")\n",
    "        print(f\"Уменьшение на {1-gmv_data.CUPED_GMV.std()/gmv_data[metric].std():.3%}\")\n",
    "    gmv_test_observations = gmv_data.sample(frac=test_fraction)\n",
    "\n",
    "\n",
    "    sd_gmv = gmv_test_observations.CUPED_GMV.std() # считаем по метрике CUPED_GMV\n",
    "    est_gmv = gmv_test_observations[metric].mean() # считаем по дефолтной метрике, потому что размер эффекта не изменится\n",
    "\n",
    "    ratio = (1-test_fraction) / (test_fraction) # пропорция контроль/тест\n",
    "    lift_gmv = 0.0075 # размер эффекта в %, для которого оцениваем мощность\n",
    "    nobs_test = gmv_test_observations.shape[0] # количество наблюдений (юзеров) в тесте\n",
    "\n",
    "    effect_size_gmv = tt_ind_solve_power(power=power, nobs1=nobs_test, alpha=alpha, ratio=ratio)\n",
    "    mde_gmv = effect_size_gmv * sd_gmv/est_gmv\n",
    "    # в процентах\n",
    "    print(f\"\\nMDE равно {mde_gmv:.2%}\")\n",
    "\n",
    "\n",
    "    eff_size_gmv = lift_gmv * est_gmv/sd_gmv\n",
    "    power_gmv = tt_ind_solve_power(effect_size=eff_size_gmv, nobs1=nobs_test, alpha=alpha, ratio=ratio)\n",
    "    # мощность для эффекта в 0.75% (lift_aov)\n",
    "    if optional:\n",
    "        print(f\"Мощность теста для эффекта в {lift_gmv:.4%} равна {power_gmv:.6}\")\n",
    "\n",
    "\n",
    "    nobs_gmv_test = tt_ind_solve_power(effect_size=eff_size_gmv, power=power, alpha=alpha, ratio=ratio)\n",
    "    # ratio = nobs_control/nobs_test\n",
    "    nobs_gmv_control = nobs_gmv_test*ratio\n",
    "    # всего нужно наблюдений, наблюдений в тестовой группе, в контрольной\n",
    "    if optional:\n",
    "        print(f\"Всего необходимо наблюдений: {round(nobs_gmv_control + nobs_gmv_test, 1):,}\")\n",
    "        print(f\"Наблюдений в тестовой группе: {round(nobs_gmv_test, 1):,}\")\n",
    "        print(f\"Наблюдений в контрольной группе: {round(nobs_gmv_control, 1):,}\")\n",
    "    if optional:\n",
    "        print('---------------------------------------------------')\n",
    "    else:\n",
    "        print('-------------------------')\n"
   ]
  },
  {
   "cell_type": "code",
   "execution_count": 5,
   "id": "258aece2",
   "metadata": {},
   "outputs": [],
   "source": [
    "def date_n_weeks_ago(n, param=False):\n",
    "    # Get the current date\n",
    "    if param:\n",
    "        d=2\n",
    "    else:\n",
    "        d=1\n",
    "    current_date = datetime.now() - timedelta(days=d)\n",
    "\n",
    "    # Calculate the date n weeks ago\n",
    "    date_n_weeks_ago = current_date - timedelta(weeks=n)\n",
    "\n",
    "    # Format the date\n",
    "    formatted_date = date_n_weeks_ago.strftime('%Y-%m-%d')\n",
    "\n",
    "    return formatted_date\n"
   ]
  },
  {
   "cell_type": "code",
   "execution_count": 12,
   "id": "c498e2cf",
   "metadata": {},
   "outputs": [],
   "source": [
    "def collect_data(n_weeks) -> pd.DataFrame:\n",
    "    q = f\"\"\"\n",
    "        select \n",
    "            anonymous_id,\n",
    "            max(if(type_delivery='pickup', 1, 0)) as ord_flg,\n",
    "            max(if(shipment_state='canceled', 1, 0)) as cancel_flg\n",
    "        from cdm.ab__metrics_data\n",
    "        where 1=1\n",
    "            and (pickup_store_selected>0 or shop_selected_pickup>0)\n",
    "            and platform in ('android', 'ios')\n",
    "            and toDate(date_msk) between toDate('{date_n_weeks_ago(n_weeks)}') and toDate('{date_n_weeks_ago(0)}')\n",
    "        group by anonymous_id\n",
    "        \"\"\"\n",
    "    return get_query_clickhouse(q)\n",
    "\n",
    "def collect_cuped_data(n_weeks) -> pd.DataFrame:\n",
    "    q = f\"\"\"\n",
    "        select \n",
    "            anonymous_id,\n",
    "            max(if(type_delivery='pickup', 1, 0)) as ord_flg,\n",
    "            max(if(shipment_state='canceled', 1, 0)) as cancel_flg\n",
    "        from cdm.ab__metrics_data\n",
    "        where 1=1\n",
    "            and (pickup_store_selected>0 or shop_selected_pickup>0)\n",
    "            and platform in ('android', 'ios')\n",
    "            and toDate(date_msk) between toDate('{date_n_weeks_ago(2*n_weeks, param=True)}') and toDate('{date_n_weeks_ago(n_weeks, param=True)}')   \n",
    "        group by anonymous_id\n",
    "        \"\"\"\n",
    "    return get_query_clickhouse(q)"
   ]
  },
  {
   "cell_type": "markdown",
   "id": "27ab9e8c",
   "metadata": {},
   "source": [
    "# Отмены самовывоза из выбора магазина"
   ]
  },
  {
   "cell_type": "code",
   "execution_count": 14,
   "id": "aa14cfe5",
   "metadata": {},
   "outputs": [
    {
     "name": "stdout",
     "output_type": "stream",
     "text": [
      "3 недель:\n",
      "Целевая метрика - cancel_flg\n",
      "\n",
      "MDE равно 4.97%\n",
      "-------------------------\n",
      "4 недель:\n",
      "Целевая метрика - cancel_flg\n",
      "\n",
      "MDE равно 4.37%\n",
      "-------------------------\n",
      "5 недель:\n",
      "Целевая метрика - cancel_flg\n",
      "\n",
      "MDE равно 3.81%\n",
      "-------------------------\n",
      "6 недель:\n",
      "Целевая метрика - cancel_flg\n",
      "\n",
      "MDE равно 3.45%\n",
      "-------------------------\n"
     ]
    }
   ],
   "source": [
    "for i in [3,4,5,6]:\n",
    "    print(f'{i} недель:')\n",
    "    exp_ios_data = collect_data(n_weeks=i)\n",
    "    obs_ios_data = collect_cuped_data(n_weeks=i)\n",
    "    for metric in ['cancel_flg']:\n",
    "        get_MDE(metric, exp_ios_data, obs_ios_data)"
   ]
  },
  {
   "cell_type": "markdown",
   "id": "25ca3e9c",
   "metadata": {},
   "source": [
    "# Сквозная в заказ из выбора магазина"
   ]
  },
  {
   "cell_type": "code",
   "execution_count": 13,
   "id": "b9276663",
   "metadata": {},
   "outputs": [
    {
     "name": "stdout",
     "output_type": "stream",
     "text": [
      "3 недель:\n",
      "Целевая метрика - ord_flg\n",
      "\n",
      "MDE равно 2.60%\n",
      "-------------------------\n",
      "4 недель:\n",
      "Целевая метрика - ord_flg\n",
      "\n",
      "MDE равно 2.29%\n",
      "-------------------------\n",
      "5 недель:\n",
      "Целевая метрика - ord_flg\n",
      "\n",
      "MDE равно 2.07%\n",
      "-------------------------\n",
      "6 недель:\n",
      "Целевая метрика - ord_flg\n",
      "\n",
      "MDE равно 1.92%\n",
      "-------------------------\n"
     ]
    }
   ],
   "source": [
    "for i in [3,4,5,6]:\n",
    "    print(f'{i} недель:')\n",
    "    exp_ios_data = collect_data(n_weeks=i)\n",
    "    obs_ios_data = collect_cuped_data(n_weeks=i)\n",
    "    for metric in ['ord_flg']:\n",
    "        get_MDE(metric, exp_ios_data, obs_ios_data)"
   ]
  }
 ],
 "metadata": {
  "kernelspec": {
   "display_name": "Python 3 (ipykernel)",
   "language": "python",
   "name": "python3"
  },
  "language_info": {
   "codemirror_mode": {
    "name": "ipython",
    "version": 3
   },
   "file_extension": ".py",
   "mimetype": "text/x-python",
   "name": "python",
   "nbconvert_exporter": "python",
   "pygments_lexer": "ipython3",
   "version": "3.9.6"
  },
  "toc": {
   "base_numbering": 1,
   "nav_menu": {},
   "number_sections": true,
   "sideBar": true,
   "skip_h1_title": false,
   "title_cell": "Table of Contents",
   "title_sidebar": "Contents",
   "toc_cell": true,
   "toc_position": {},
   "toc_section_display": true,
   "toc_window_display": false
  }
 },
 "nbformat": 4,
 "nbformat_minor": 5
}
