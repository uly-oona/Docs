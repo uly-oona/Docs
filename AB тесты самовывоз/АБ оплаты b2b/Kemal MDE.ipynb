{
 "cells": [
  {
   "cell_type": "markdown",
   "metadata": {},
   "source": [
    "# Imports"
   ]
  },
  {
   "cell_type": "code",
   "execution_count": 1,
   "metadata": {},
   "outputs": [],
   "source": [
    "import os\n",
    "import pathlib\n",
    "\n",
    "import numpy as np\n",
    "import pandas as pd\n",
    "import sqlalchemy as sa\n",
    "import statsmodels.api as sm\n",
    "import statsmodels.stats.api as sms\n",
    "from dotenv import dotenv_values\n",
    "from statsmodels.stats.power import tt_ind_solve_power\n",
    "from tqdm import tqdm\n",
    "from datetime import datetime, timedelta\n",
    "\n",
    "import matplotlib.pyplot as plt\n",
    "import seaborn as sns"
   ]
  },
  {
   "cell_type": "code",
   "execution_count": 2,
   "metadata": {},
   "outputs": [],
   "source": [
    "os.environ[\"OMP_NUM_THREADS\"] = \"8\"\n",
    "os.environ[\"MKL_NUM_THREADS\"] = \"8\"\n",
    "os.environ[\"OPENBLAS_NUM_THREADS\"] = \"8\""
   ]
  },
  {
   "cell_type": "code",
   "execution_count": 3,
   "metadata": {},
   "outputs": [],
   "source": [
    "config = dotenv_values(\"/home/jovyan/.env\")\n",
    "def get_query_clickhouse(q: str) -> pd.DataFrame:\n",
    "    ch_host = config['CH_HOST']\n",
    "    ch_port = config['CH_PORT']\n",
    "    ch_db   = config['CH_READ_DB']\n",
    "    ch_user = config['CH_READ_USER']\n",
    "    ch_pass = config['CH_READ_PASS']\n",
    "\n",
    "    engine = sa.create_engine(\n",
    "        f\"clickhouse+native://{ch_user}:\"\n",
    "        f\"{ch_pass}@{ch_host}:\"\n",
    "        f\"{ch_port}/{ch_db}?secure=True\"\n",
    "    )\n",
    "    return pd.read_sql_query(q, con=engine)"
   ]
  },
  {
   "cell_type": "markdown",
   "metadata": {},
   "source": [
    "# Functions"
   ]
  },
  {
   "cell_type": "code",
   "execution_count": 4,
   "metadata": {},
   "outputs": [],
   "source": [
    "def get_MDE(metric, exp_ios_data, obs_ios_data, total_frac=1, test_fraction=0.5, alpha=0.05, power=0.8, optional=False):   \n",
    "#     print(f\"Целевая метрика - {metric}\")\n",
    "\n",
    "    alpha = alpha # alpha = 0.05, для которой считаем MDE\n",
    "    power = power # мощность = 0.8, для которой считаем MDE\n",
    "    test_fraction = test_fraction # Тест-контроль 50 на 50\n",
    "    exp_gmv_data = exp_ios_data.copy()\n",
    "    obs_gmv_data = obs_ios_data.copy().rename({metric: \"CUPED_X\"}, axis=1)\n",
    "\n",
    "    gmv_data = exp_gmv_data[[\"anonymous_id\", metric]].merge(obs_gmv_data[[\"anonymous_id\", \"CUPED_X\"]], how=\"left\", on=\"anonymous_id\")\n",
    "    gmv_data = gmv_data.sample(frac=total_frac)\n",
    "\n",
    "    # обработаем юзеров без истории\n",
    "    gmv_data[\"missing_CUPED\"] = 0\n",
    "    gmv_data.loc[gmv_data[\"CUPED_X\"].isna(), \"missing_CUPED\"] = 1\n",
    "    gmv_data = gmv_data.fillna(0)\n",
    "    if optional:\n",
    "        print(f\"Пользователей без истории {gmv_data.missing_CUPED.mean():.4%}\")\n",
    "    # в соответствие с процедурой CUPED'a случайным образом выделим тестовую и контрольную группы\n",
    "\n",
    "    gmv_data[\"treatment\"] = np.random.choice([0,1], size=gmv_data.shape[0])\n",
    "    # применим CUPED, получив по итогу пост-cuped метрику CUPED_GMV\n",
    "    y_control = gmv_data.query(\"treatment==0\")[metric]\n",
    "    X_cov_control = gmv_data.query(\"treatment==0\")[[\"CUPED_X\", \"missing_CUPED\"]]\n",
    "    y_hat = sm.OLS(y_control, X_cov_control).fit().predict(gmv_data[[\"CUPED_X\", \"missing_CUPED\"]])\n",
    "    gmv_data[\"CUPED_GMV\"] = gmv_data[metric] - y_hat\n",
    "    # зафиксируем снижение дисперсии\n",
    "    if optional:\n",
    "        print(f\"\\nИсходная дисперсия = {gmv_data[metric].std():.8}\")\n",
    "        print(f\"Дисперсия после cuped = {gmv_data.CUPED_GMV.std():.8}\")\n",
    "        print(f\"Уменьшение на {1-gmv_data.CUPED_GMV.std()/gmv_data[metric].std():.3%}\")\n",
    "    gmv_test_observations = gmv_data.sample(frac=test_fraction)\n",
    "\n",
    "\n",
    "    sd_gmv = gmv_test_observations.CUPED_GMV.std() # считаем по метрике CUPED_GMV\n",
    "    est_gmv = gmv_test_observations[metric].mean() # считаем по дефолтной метрике, потому что размер эффекта не изменится\n",
    "\n",
    "    ratio = (1-test_fraction) / (test_fraction) # пропорция контроль/тест\n",
    "    lift_gmv = 0.05 # размер эффекта в %, для которого оцениваем мощность\n",
    "    nobs_test = gmv_test_observations.shape[0] # количество наблюдений (юзеров) в тесте\n",
    "\n",
    "    effect_size_gmv = tt_ind_solve_power(power=power, nobs1=nobs_test, alpha=alpha, ratio=ratio)\n",
    "    mde_gmv = effect_size_gmv * sd_gmv/est_gmv\n",
    "    if optional:\n",
    "        print(f\"sd_gmv = {sd_gmv}\")\n",
    "    mde_gmv_abs = effect_size_gmv * sd_gmv\n",
    "    # print(f\"est_gmv = {est_gmv}\")\n",
    "    # print(f\"sd_gmv = {sd_gmv}\")\n",
    "    # в процентах\n",
    "#     print(f\"\\nMDE равно {mde_gmv:.2%}\")\n",
    "\n",
    "\n",
    "    eff_size_gmv = lift_gmv * est_gmv/sd_gmv\n",
    "    power_gmv = tt_ind_solve_power(effect_size=eff_size_gmv, nobs1=nobs_test, alpha=alpha, ratio=ratio)\n",
    "    # мощность для эффекта в 0.75% (lift_aov)\n",
    "    if optional:\n",
    "        print(f\"Мощность теста для эффекта в {lift_gmv:.4%} равна {power_gmv:.6}\")\n",
    "\n",
    "\n",
    "    nobs_gmv_test = tt_ind_solve_power(effect_size=eff_size_gmv, power=power, alpha=alpha, ratio=ratio)\n",
    "    # ratio = nobs_control/nobs_test\n",
    "    nobs_gmv_control = nobs_gmv_test*ratio\n",
    "    # всего нужно наблюдений, наблюдений в тестовой группе, в контрольной\n",
    "    if optional:\n",
    "        print(f\"Всего необходимо наблюдений: {round(nobs_gmv_control + nobs_gmv_test, 1):,}\")\n",
    "        print(f\"Наблюдений в тестовой группе: {round(nobs_gmv_test, 1):,}\")\n",
    "        print(f\"Наблюдений в контрольной группе: {round(nobs_gmv_control, 1):,}\")\n",
    "    if optional:\n",
    "        print('---------------------------------------------------')\n",
    "#     else:\n",
    "#         print('-------------------------')\n",
    "\n",
    "    red_dict = {\n",
    "        \"effect_size\": effect_size_gmv,\n",
    "        \"mde\": mde_gmv,\n",
    "        \"mde_abs\": mde_gmv_abs\n",
    "    }\n",
    "    return red_dict\n",
    "\n",
    "def filter_outliers(df, metric, k=9):\n",
    "    df_mean = df[df[metric] > 0][metric].mean()\n",
    "    df_std = df['gmv'].std()\n",
    "    # print(f\"df std before filter = {df_std:.2f}\")\n",
    "    rows_to_drop = df[metric] > df_mean + k * df_std\n",
    "\n",
    "    df_filtered = df[~rows_to_drop]\n",
    "    df_filtered_mean = df_filtered[metric].mean()\n",
    "    df_filtered_std = df_filtered['gmv'].std()\n",
    "    # print(f\"df std after  filter = {df_filtered_std:.2f}\")\n",
    "    return df_filtered\n",
    "\n",
    "def date_n_weeks_ago(n, param=False):\n",
    "    # Get the current date\n",
    "    if param:\n",
    "        d=2\n",
    "    else:\n",
    "        d=1\n",
    "    current_date = datetime.now() - timedelta(days=d)\n",
    "\n",
    "    # Calculate the date n weeks ago\n",
    "    date_n_weeks_ago = current_date - timedelta(weeks=n)\n",
    "\n",
    "    # Format the date\n",
    "    formatted_date = date_n_weeks_ago.strftime('%Y-%m-%d')\n",
    "\n",
    "    return formatted_date\n"
   ]
  },
  {
   "cell_type": "markdown",
   "metadata": {},
   "source": [
    "# Конверсия новичков апп в заказ"
   ]
  },
  {
   "cell_type": "code",
   "execution_count": 33,
   "metadata": {},
   "outputs": [],
   "source": [
    "def collect_data(n_weeks) -> pd.DataFrame:\n",
    "    q = f\"\"\"\n",
    "        select\n",
    "            anonymous_id,\n",
    "            max(isNotNull(order_completed_at)) as ord_compl\n",
    "        from new_app_funnel_table\n",
    "        where order_flow='new'\n",
    "            and b2b_flg in ('Представитель компании', 'Пользователь с флагом В2В')\n",
    "            and observation_date between toDate('{date_n_weeks_ago(n_weeks)}') and toDate('{date_n_weeks_ago(0)}')\n",
    "        group by anonymous_id\n",
    "        \"\"\"\n",
    "    return get_query_clickhouse(q)\n",
    "\n",
    "def collect_cuped_data(n_weeks) -> pd.DataFrame:\n",
    "    q = f\"\"\"\n",
    "        select\n",
    "            anonymous_id,\n",
    "            max(isNotNull(order_completed_at)) as ord_compl\n",
    "        from new_app_funnel_table\n",
    "        where order_flow='new'\n",
    "            and b2b_flg in ('Представитель компании', 'Пользователь с флагом В2В')\n",
    "            and observation_date between toDate('{date_n_weeks_ago(2*n_weeks, param=True)}') and toDate('{date_n_weeks_ago(n_weeks, param=True)}')   \n",
    "        group by anonymous_id\n",
    "        \"\"\"\n",
    "    return get_query_clickhouse(q)"
   ]
  },
  {
   "cell_type": "code",
   "execution_count": 34,
   "metadata": {},
   "outputs": [
    {
     "name": "stdout",
     "output_type": "stream",
     "text": [
      "3 недель:\n",
      "mde = 0.17\n",
      "mde_abs = 0.03\n",
      "effect_size = 0.077\n",
      "4 недель:\n",
      "mde = 0.14\n",
      "mde_abs = 0.028\n",
      "effect_size = 0.069\n",
      "5 недель:\n",
      "mde = 0.12\n",
      "mde_abs = 0.026\n",
      "effect_size = 0.063\n",
      "6 недель:\n",
      "mde = 0.11\n",
      "mde_abs = 0.025\n",
      "effect_size = 0.059\n"
     ]
    }
   ],
   "source": [
    "for i in [3,4,5,6]:\n",
    "    print(f'{i} недель:')\n",
    "    exp_ios_data = collect_data(n_weeks=i)\n",
    "    obs_ios_data = collect_cuped_data(n_weeks=i)\n",
    "    for metric in ['ord_compl']:\n",
    "        res = get_MDE(metric, exp_ios_data, obs_ios_data)\n",
    "        effect_size = res['effect_size']\n",
    "        mde_abs = res['mde_abs']\n",
    "        mde = res['mde']\n",
    "        print(f\"mde = {mde:.2}\")\n",
    "        print(f\"mde_abs = {mde_abs:.2}\")\n",
    "        print(f\"effect_size = {effect_size:.2}\")"
   ]
  },
  {
   "cell_type": "markdown",
   "metadata": {},
   "source": [
    "# Конверсия mobile web в заказ на любой платформе"
   ]
  },
  {
   "cell_type": "code",
   "execution_count": 35,
   "metadata": {},
   "outputs": [],
   "source": [
    "def collect_data(n_weeks) -> pd.DataFrame:\n",
    "    q = f\"\"\"\n",
    "        with t1 as (\n",
    "            select\n",
    "                user_id, max(shipped_at) as shipped_dt \n",
    "            from gp_rep.rep__bi_shipment\n",
    "            where shipped_at between toDate('{date_n_weeks_ago(n_weeks)}') and toDate('{date_n_weeks_ago(0)}')\n",
    "            group by user_id)\n",
    "\n",
    "        , orders as (\n",
    "        select \n",
    "            dictGet('analytics.spree_users_dict', 'uuid', toUInt64(user_id)) as uuid, shipped_dt \n",
    "        from t1)\n",
    "\n",
    "        , users as (\n",
    "        select user_id, min(observation_date) as dt\n",
    "        from web_funnel\n",
    "        where tenant='smbusiness'\n",
    "            and device_type='mobile'\n",
    "            and user_id<>''\n",
    "            and isNotNull(login_at)\n",
    "            and observation_date between toDate('{date_n_weeks_ago(n_weeks)}') and toDate('{date_n_weeks_ago(0)}')\n",
    "        group by user_id)\n",
    "            \n",
    "        select user_id as anonymous_id, if(uuid<>'' and toDate(shipped_dt)>=toDate(dt), 1, 0) as conv_to_ord\n",
    "        from users left join orders on users.user_id=orders.uuid\n",
    "        \"\"\"\n",
    "    return get_query_clickhouse(q)\n",
    "\n",
    "def collect_cuped_data(n_weeks) -> pd.DataFrame:\n",
    "    q = f\"\"\"\n",
    "        with t1 as (\n",
    "            select\n",
    "                user_id, max(shipped_at) as shipped_dt \n",
    "            from gp_rep.rep__bi_shipment\n",
    "            where shipped_at between toDate('{date_n_weeks_ago(2*n_weeks, param=True)}') and toDate('{date_n_weeks_ago(n_weeks, param=True)}')   \n",
    "            group by user_id)\n",
    "\n",
    "        , orders as (\n",
    "        select \n",
    "            dictGet('analytics.spree_users_dict', 'uuid', toUInt64(user_id)) as uuid, shipped_dt \n",
    "        from t1)\n",
    "\n",
    "        , users as (\n",
    "        select user_id, min(observation_date) as dt\n",
    "        from web_funnel\n",
    "        where tenant='smbusiness'\n",
    "            and device_type='mobile'\n",
    "            and user_id<>''\n",
    "            and isNotNull(login_at)\n",
    "            and observation_date between toDate('{date_n_weeks_ago(2*n_weeks, param=True)}') and toDate('{date_n_weeks_ago(n_weeks, param=True)}')   \n",
    "        group by user_id)\n",
    "            \n",
    "        select user_id as anonymous_id, if(uuid<>'' and toDate(shipped_dt)>=toDate(dt), 1, 0) as conv_to_ord\n",
    "        from users left join orders on users.user_id=orders.uuid\n",
    "        \"\"\"\n",
    "    return get_query_clickhouse(q)"
   ]
  },
  {
   "cell_type": "code",
   "execution_count": 36,
   "metadata": {},
   "outputs": [
    {
     "name": "stdout",
     "output_type": "stream",
     "text": [
      "3 недель:\n",
      "mde = 0.11\n",
      "mde_abs = 0.047\n",
      "effect_size = 0.099\n",
      "4 недель:\n",
      "mde = 0.09\n",
      "mde_abs = 0.042\n",
      "effect_size = 0.088\n",
      "5 недель:\n",
      "mde = 0.084\n",
      "mde_abs = 0.039\n",
      "effect_size = 0.08\n",
      "6 недель:\n",
      "mde = 0.076\n",
      "mde_abs = 0.036\n",
      "effect_size = 0.075\n"
     ]
    }
   ],
   "source": [
    "for i in [3,4,5,6]:\n",
    "    print(f'{i} недель:')\n",
    "    exp_ios_data = collect_data(n_weeks=i)\n",
    "    obs_ios_data = collect_cuped_data(n_weeks=i)\n",
    "    for metric in ['conv_to_ord']:\n",
    "        res = get_MDE(metric, exp_ios_data, obs_ios_data)\n",
    "        effect_size = res['effect_size']\n",
    "        mde_abs = res['mde_abs']\n",
    "        mde = res['mde']\n",
    "        print(f\"mde = {mde:.2}\")\n",
    "        print(f\"mde_abs = {mde_abs:.2}\")\n",
    "        print(f\"effect_size = {effect_size:.2}\")"
   ]
  },
  {
   "cell_type": "markdown",
   "metadata": {},
   "source": [
    "# GMV mobile web | app"
   ]
  },
  {
   "cell_type": "code",
   "execution_count": 37,
   "metadata": {},
   "outputs": [],
   "source": [
    "def collect_data(n_weeks) -> pd.DataFrame:\n",
    "    q = f\"\"\"\n",
    "            select \n",
    "                user_id as anonymous_id,\n",
    "                sum(gmv_goods_net_promo) as gmv\n",
    "            from gp_rep.rep__bi_shipment\n",
    "            where b2b_measure<>0\n",
    "                and user_id <> 0\n",
    "                and shipment_state='shipped' \n",
    "                and shipped_at between toDate('{date_n_weeks_ago(n_weeks)}') and toDate('{date_n_weeks_ago(0)}')\n",
    "                and platform = 'web' and device_type='mobile' and tenant_id='smbusiness'\n",
    "            group by anonymous_id\n",
    "        \"\"\"\n",
    "    return get_query_clickhouse(q)\n",
    "\n",
    "def collect_cuped_data(n_weeks) -> pd.DataFrame:\n",
    "    q = f\"\"\"\n",
    "        select \n",
    "            user_id as anonymous_id,\n",
    "            sum(gmv_goods_net_promo) as gmv\n",
    "        from gp_rep.rep__bi_shipment\n",
    "        where b2b_measure<>0\n",
    "            and user_id <> 0\n",
    "            and shipment_state='shipped' \n",
    "            and shipped_at between toDate('{date_n_weeks_ago(2*n_weeks, param=True)}') and toDate('{date_n_weeks_ago(n_weeks, param=True)}')   \n",
    "            and platform = 'web' and device_type='mobile' and tenant_id='smbusiness'\n",
    "        group by anonymous_id\n",
    "        \"\"\"\n",
    "    return get_query_clickhouse(q)"
   ]
  },
  {
   "cell_type": "code",
   "execution_count": 38,
   "metadata": {},
   "outputs": [
    {
     "name": "stdout",
     "output_type": "stream",
     "text": [
      "2 недель:\n",
      "Уникальных пользователей за 2 недель 532\n",
      "3 недель:\n",
      "Уникальных пользователей за 3 недель 702\n",
      "4 недель:\n",
      "Уникальных пользователей за 4 недель 820\n",
      "5 недель:\n",
      "Уникальных пользователей за 5 недель 940\n",
      "6 недель:\n",
      "Уникальных пользователей за 6 недель 1072\n"
     ]
    },
    {
     "data": {
      "text/plain": [
       "[0.3025503791639217,\n",
       " 0.2434235254476935,\n",
       " 0.21000413547069288,\n",
       " 0.2638115254906051,\n",
       " 0.25571235091074723]"
      ]
     },
     "execution_count": 38,
     "metadata": {},
     "output_type": "execute_result"
    }
   ],
   "source": [
    "a = []\n",
    "for i in [2,3,4,5,6]:\n",
    "    print(f'{i} недель:')\n",
    "    exp_ios_data = collect_data(n_weeks=i)\n",
    "    exp_ios_data = filter_outliers(exp_ios_data, metric='gmv', k=9)\n",
    "    obs_ios_data = collect_cuped_data(n_weeks=i)\n",
    "\n",
    "    print(f\"Уникальных пользователей за {i} недель {exp_ios_data['anonymous_id'].nunique()}\")\n",
    "\n",
    "    for _ in range(100): \n",
    "        mde_array=[]\n",
    "        for metric in ['gmv']:\n",
    "            res = get_MDE(metric, exp_ios_data, obs_ios_data)\n",
    "            mde = res['mde']\n",
    "            mde_array.append(mde)\n",
    "    a.append(np.mean(mde_array))\n",
    "a"
   ]
  },
  {
   "cell_type": "markdown",
   "metadata": {},
   "source": [
    "# APP"
   ]
  },
  {
   "cell_type": "code",
   "execution_count": 23,
   "metadata": {},
   "outputs": [],
   "source": [
    "def collect_data(n_weeks) -> pd.DataFrame:\n",
    "    q = f\"\"\"\n",
    "            select \n",
    "                user_id as anonymous_id,\n",
    "                sum(gmv_goods_net_promo) as gmv\n",
    "            from gp_rep.rep__bi_shipment\n",
    "            where b2b_measure<>0\n",
    "                and user_id <> 0\n",
    "                and shipment_state='shipped' \n",
    "                and shipped_at between toDate('{date_n_weeks_ago(n_weeks)}') and toDate('{date_n_weeks_ago(0)}')\n",
    "                and platform='app'\n",
    "            group by anonymous_id\n",
    "        \"\"\"\n",
    "    return get_query_clickhouse(q)\n",
    "\n",
    "def collect_cuped_data(n_weeks) -> pd.DataFrame:\n",
    "    q = f\"\"\"\n",
    "        select \n",
    "            user_id as anonymous_id,\n",
    "            sum(gmv_goods_net_promo) as gmv\n",
    "        from gp_rep.rep__bi_shipment\n",
    "        where b2b_measure<>0\n",
    "            and user_id <> 0\n",
    "            and shipment_state='shipped' \n",
    "            and shipped_at between toDate('{date_n_weeks_ago(2*n_weeks, param=True)}') and toDate('{date_n_weeks_ago(n_weeks, param=True)}')   \n",
    "            and platform='app'\n",
    "        group by anonymous_id\n",
    "        \"\"\"\n",
    "    return get_query_clickhouse(q)"
   ]
  },
  {
   "cell_type": "code",
   "execution_count": 24,
   "metadata": {},
   "outputs": [
    {
     "name": "stdout",
     "output_type": "stream",
     "text": [
      "2 недель:\n",
      "Уникальных пользователей за 2 недель 37729\n",
      "3 недель:\n",
      "Уникальных пользователей за 3 недель 46018\n",
      "4 недель:\n",
      "Уникальных пользователей за 4 недель 52373\n",
      "5 недель:\n",
      "Уникальных пользователей за 5 недель 58402\n",
      "6 недель:\n",
      "Уникальных пользователей за 6 недель 63803\n"
     ]
    },
    {
     "data": {
      "text/plain": [
       "[0.03288366198961904,\n",
       " 0.032823740707284034,\n",
       " 0.03148108875762498,\n",
       " 0.02887340200099975,\n",
       " 0.02780745222225427]"
      ]
     },
     "execution_count": 24,
     "metadata": {},
     "output_type": "execute_result"
    }
   ],
   "source": [
    "a = []\n",
    "for i in [2,3,4,5,6]:\n",
    "    print(f'{i} недель:')\n",
    "    exp_ios_data = collect_data(n_weeks=i)\n",
    "    exp_ios_data = filter_outliers(exp_ios_data, metric='gmv', k=9)\n",
    "    obs_ios_data = collect_cuped_data(n_weeks=i)\n",
    "\n",
    "    print(f\"Уникальных пользователей за {i} недель {exp_ios_data['anonymous_id'].nunique()}\")\n",
    "\n",
    "    for _ in range(100): \n",
    "        mde_array=[]\n",
    "        for metric in ['gmv']:\n",
    "            res = get_MDE(metric, exp_ios_data, obs_ios_data)\n",
    "            mde = res['mde']\n",
    "            mde_array.append(mde)\n",
    "    a.append(np.mean(mde_array))\n",
    "a"
   ]
  },
  {
   "cell_type": "markdown",
   "metadata": {},
   "source": [
    "# Конверсия из чекаута в b2b заказ на апп"
   ]
  },
  {
   "cell_type": "code",
   "execution_count": 39,
   "metadata": {},
   "outputs": [],
   "source": [
    "def collect_data(n_weeks) -> pd.DataFrame:\n",
    "    q = f\"\"\"\n",
    "        select \n",
    "            anonymous_id,\n",
    "            max(if(isNotNull(order_completed_at) \n",
    "            and context_order_id in (select order_number from gp_rep.rep__bi_shipment where b2b_measure<>0 and shipped_at>'2024-10-10'),\n",
    "            1, 0)) as b2b_ord_cmpl\n",
    "        from new_app_funnel_table\n",
    "        where isNotNull(checkout_loaded_at)\n",
    "        and observation_date between toDate('{date_n_weeks_ago(n_weeks)}') and toDate('{date_n_weeks_ago(0)}')\n",
    "        group by anonymous_id\n",
    "        \"\"\"\n",
    "    return get_query_clickhouse(q)\n",
    "\n",
    "def collect_cuped_data(n_weeks) -> pd.DataFrame:\n",
    "    q = f\"\"\"\n",
    "        select \n",
    "            anonymous_id,\n",
    "            max(if(isNotNull(order_completed_at) \n",
    "            and context_order_id in (select order_number from gp_rep.rep__bi_shipment where b2b_measure<>0 and shipped_at>'2024-10-10'),\n",
    "            1, 0)) as b2b_ord_cmpl\n",
    "        from new_app_funnel_table\n",
    "        where isNotNull(checkout_loaded_at)\n",
    "        and observation_date between toDate('{date_n_weeks_ago(2*n_weeks, param=True)}') and toDate('{date_n_weeks_ago(n_weeks, param=True)}')   \n",
    "        group by anonymous_id\n",
    "        \"\"\"\n",
    "    return get_query_clickhouse(q)"
   ]
  },
  {
   "cell_type": "code",
   "execution_count": 40,
   "metadata": {},
   "outputs": [
    {
     "name": "stdout",
     "output_type": "stream",
     "text": [
      "3 недель:\n",
      "mde = 0.027\n",
      "mde_abs = 0.00054\n",
      "effect_size = 0.0038\n",
      "4 недель:\n",
      "mde = 0.027\n",
      "mde_abs = 0.00046\n",
      "effect_size = 0.0035\n"
     ]
    }
   ],
   "source": [
    "for i in [3,4]:\n",
    "    print(f'{i} недель:')\n",
    "    exp_ios_data = collect_data(n_weeks=i)\n",
    "    obs_ios_data = collect_cuped_data(n_weeks=i)\n",
    "    for metric in ['b2b_ord_cmpl']:\n",
    "        res = get_MDE(metric, exp_ios_data, obs_ios_data)\n",
    "        effect_size = res['effect_size']\n",
    "        mde_abs = res['mde_abs']\n",
    "        mde = res['mde']\n",
    "        print(f\"mde = {mde:.2}\")\n",
    "        print(f\"mde_abs = {mde_abs:.2}\")\n",
    "        print(f\"effect_size = {effect_size:.2}\")"
   ]
  },
  {
   "cell_type": "code",
   "execution_count": 41,
   "metadata": {},
   "outputs": [
    {
     "data": {
      "text/plain": [
       "{'effect_size': 0.003513743500419804,\n",
       " 'mde': 0.026603156604382356,\n",
       " 'mde_abs': 0.0004582594982632454}"
      ]
     },
     "execution_count": 41,
     "metadata": {},
     "output_type": "execute_result"
    }
   ],
   "source": [
    "res"
   ]
  }
 ],
 "metadata": {
  "kernelspec": {
   "display_name": "ab_platform_env",
   "language": "python",
   "name": "ab_platform_env"
  }
 },
 "nbformat": 4,
 "nbformat_minor": 2
}
