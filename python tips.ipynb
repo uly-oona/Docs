{
 "cells": [
  {
   "cell_type": "markdown",
   "id": "66b1a253-7fd3-4f4f-a8aa-053177f5666d",
   "metadata": {
    "execution": {
     "iopub.execute_input": "2024-12-16T15:56:59.229214Z",
     "iopub.status.busy": "2024-12-16T15:56:59.228806Z",
     "iopub.status.idle": "2024-12-16T15:56:59.238200Z",
     "shell.execute_reply": "2024-12-16T15:56:59.237407Z",
     "shell.execute_reply.started": "2024-12-16T15:56:59.229182Z"
    }
   },
   "source": [
    "# Построение графиков"
   ]
  },
  {
   "cell_type": "code",
   "execution_count": null,
   "id": "c0f0474c-da58-4d4a-87c6-1701644e8a4c",
   "metadata": {},
   "outputs": [],
   "source": [
    "# Построение графика распределения\n",
    "sns.histplot(final_result_own['owner_gmv'], bins=70, color='darkblue', edgecolor='black', kde=True)\n",
    "\n",
    "# Установка делений на оси X\n",
    "# ticks = list(range(0, 500000, 250000)) + list(range(500000, 10000000, 5000000))  # Четные от 0 до 16 и десятки от 20 до 70\n",
    "ticks = list(range(0, 600000000, 100000000))\n",
    "plt.xticks(ticks=ticks, labels=[str(i) for i in ticks])\n",
    "\n",
    "# # Установка делений на оси Y\n",
    "# plt.ylim(1, 250000) \n",
    "# # Установка делений на оси Y с шагом 1000\n",
    "# plt.yticks(np.arange(0, 250000, 50000))\n",
    "\n",
    "# Подписи осей и заголовок\n",
    "plt.xlabel('Оборот')\n",
    "plt.ylabel('Количество селлеров')\n",
    "plt.title('Оборот селлера')\n",
    "\n",
    "# Показать график\n",
    "plt.tight_layout()\n",
    "plt.show()"
   ]
  },
  {
   "cell_type": "code",
   "execution_count": null,
   "id": "a05db2e5-fd20-4d65-af3a-4fcc61253203",
   "metadata": {},
   "outputs": [],
   "source": [
    "# Построение графика распределения с ограничением по высоте\n",
    "sns.histplot(final_result_own['owner_gmv'], bins=70, color='darkgreen', edgecolor='black')\n",
    "# Установка делений на оси X\n",
    "\n",
    "ticks = list(range(0, 100000000, 50000000)) + list(range(100000000,  600000000, 100000000)) \n",
    "\n",
    "# ticks = list(range(0, 600000000, 100000000))\n",
    "plt.xticks(ticks)\n",
    "\n",
    "plt.ylim(1, 30) \n",
    "# Установка делений на оси Y с шагом 1000\n",
    "plt.yticks(np.arange(0, 30, 10))\n",
    "\n",
    "\n",
    "# Подписи осей и заголовок\n",
    "plt.xlabel('Оборот')\n",
    "plt.ylabel('Количество селлеров')\n",
    "plt.title('Оборот селлера')\n",
    "\n",
    "# Показать график\n",
    "plt.tight_layout()\n",
    "plt.show()"
   ]
  },
  {
   "cell_type": "markdown",
   "id": "2814671f-744c-4590-9652-318c66acdc92",
   "metadata": {},
   "source": [
    "# GMV селлеров \n"
   ]
  },
  {
   "cell_type": "code",
   "execution_count": null,
   "id": "5dac09da-19ed-4768-b7f4-a32abf141cb6",
   "metadata": {},
   "outputs": [],
   "source": [
    "\n",
    "# селлеры, и их gmv за последние 4 месяца\n",
    "\n",
    "all_sellers = get_sql_gp(\n",
    "\n",
    "\"\"\"\n",
    "with \n",
    "\n",
    "-- только актуальные карточки товаров\n",
    "act_card as (\n",
    "    select \n",
    "        supplierid as old_id, \n",
    "        parentid as parent_id\n",
    "    from item_dicts.cards_new\n",
    "    where 1=1\n",
    "        and not isdeleted \n",
    "        and picscount > 0\n",
    "    group by supplierid, parentid\n",
    ")\n",
    "\n",
    "-- словарь карточки товара и родительской категории\n",
    ", dict as (\n",
    "    select distinct\n",
    "        supplierid as old_id,\n",
    "        nm_id,\n",
    "        sub.parent_id as parent_id\n",
    "    from item_dicts.nm_subject as sub\n",
    "    join act_card\n",
    "        on sub.supplierid  = act_card.old_id\n",
    "        and sub.parent_id  = act_card.parent_id\n",
    "    where sub.isdeleted = 'False'\n",
    ")\n",
    "\n",
    "-- получаю карточку товара и gmv по селлерам по селлерам за последние 4 месяца\n",
    "\n",
    "    select \n",
    "        supplier_id as old_id,\n",
    "        dt_month,\n",
    "        count(distinct g.nm_id) as cnt_nm,\n",
    "        sum(amount_buyout) as gmv_nm\n",
    "    from loyalty.ananas_gmv as g\n",
    "    join dict \n",
    "        on g.supplier_id = dict.old_id\n",
    "        and g.nm_id = dict.nm_id\n",
    "    \n",
    "    where dt_month between '2024-10-01' and '2025-02-01' -- 4 месяца\n",
    "    group by supplier_id, dt_month\n",
    "    having sum(amount_buyout)>1000\n",
    "    \n",
    "\"\"\"   \n",
    ")\n",
    "all_sellers\n"
   ]
  },
  {
   "cell_type": "markdown",
   "id": "255a1d9c-5280-44f1-a2fc-30996a0a0f05",
   "metadata": {},
   "source": [
    "## Расчет среднего значения с учетом нулей"
   ]
  },
  {
   "cell_type": "code",
   "execution_count": null,
   "id": "b9f45c97-ac59-4ba8-bf02-dce37bcede60",
   "metadata": {},
   "outputs": [],
   "source": [
    "# посчитаю среднюю полученную скидку за 4 месяца (без учета 0)\n",
    "# нам не подходит mean: есть месяцы, в которые селлер ничего не продавал/не был в лояльности\n",
    "# Функция для расчета средневзвешенного значения\n",
    "def calculate_weighted_average(column):\n",
    "    non_zero_count = (column != 0).sum()  # Количество ненулевых значений\n",
    "    total_sum = column.sum()  # Сумма значений\n",
    "    if non_zero_count > 0:\n",
    "        return total_sum / non_zero_count\n",
    "    return 0  # Если все значения нулевые\n",
    "\n",
    "\n",
    "# Группировка по old_id и расчет средневзвешенных значений\n",
    "averages = loyal_level_.groupby('old_id').agg(\n",
    "    average_storage_sum=('storage_sum', calculate_weighted_average),\n",
    "    average_delivery_sum=('delivery_sum', calculate_weighted_average),\n",
    "    average_gmv=('gmv', calculate_weighted_average)\n",
    ").reset_index()"
   ]
  },
  {
   "cell_type": "markdown",
   "id": "9972f3d2-d1ed-4006-b7d1-4505e6948529",
   "metadata": {},
   "source": [
    "## Проставляю группу по обороту"
   ]
  },
  {
   "cell_type": "code",
   "execution_count": null,
   "id": "bfb514cb-e698-42f7-8254-58be69254630",
   "metadata": {},
   "outputs": [],
   "source": [
    "# богатые\n",
    "bins = [0, 10000000, 20000000, 30000000, 40000000, 50000000, 60000000, np.inf]\n",
    "labels = ['до 10млн', '10млн - 20млн', '20млн - 30млн', '30млн - 40млн', '40млн - 50млн', '50млн - 60млн', '60млн +']\n",
    "\n",
    "# базовое деление \n",
    "bins = [0, 50000, 100000, 500000, 1000000, 5000000\n",
    "        10000000, np.inf]\n",
    "labels = ['до 50к', '50к - 100к', '100к - 500к', '500к - 1млн', '1млн - 5млн', '5млн - 10млн',\n",
    "          '10млн +']\n",
    "\n",
    "# тотал\n",
    "bins = [0, 50000, 100000, 500000, 1000000, 5000000\n",
    "        10000000, 20000000, 30000000, 40000000, 50000000, 60000000, np.inf]\n",
    "labels = ['до 50к', '50к - 100к', '100к - 500к', '500к - 1млн', '1млн - 5млн', '5млн - 10млн',\n",
    "          '10млн - 20млн', '20млн - 30млн', '30млн - 40млн', '40млн - 50млн', '50млн - 60млн', '60млн +']\n",
    "\n",
    "\n",
    "# Создаем новый столбец 'group' на основе значений в 'gmv'\n",
    "rich['group'] = pd.cut(rich['gmv'], bins=bins, labels=labels, right=False)\n",
    "rich\n",
    "\n",
    "\n",
    "# Создаем новый столбец 'group' на основе значений в 'gmv'\n",
    "rich['group'] = pd.cut(rich['gmv'], bins=bins, labels=labels, right=False)\n",
    "rich"
   ]
  },
  {
   "cell_type": "markdown",
   "id": "98c488c8-c271-4829-be1e-8fc107b1c560",
   "metadata": {},
   "source": [
    "## Корректная сортировка"
   ]
  },
  {
   "cell_type": "code",
   "execution_count": null,
   "id": "0202de46-ea73-42f4-8380-904cc0766661",
   "metadata": {},
   "outputs": [],
   "source": [
    "# Пример создания DataFrame\n",
    "data = {\n",
    "    'income_range': ['до 50к', '500к - 1млн', '50к - 100к', '10млн +', '1млн - 5млн', '100к - 500к', '5млн - 10млн']\n",
    "}\n",
    "df = pd.DataFrame(data)\n",
    "\n",
    "# Определение порядка сортировки\n",
    "order = ['до 50к', '50к - 100к', '100к - 500к', '500к - 1млн', '1млн - 5млн', '5млн - 10млн', '10млн +']\n",
    "\n",
    "# Преобразование столбца в категориальный тип с заданным порядком\n",
    "df['income_range'] = pd.Categorical(df['income_range'], categories=order, ordered=True)\n",
    "\n",
    "# Сортировка DataFrame и не выводить строки с 0\n",
    "df_sorted = df.sort_values('income_range').query('count > 0')\n"
   ]
  },
  {
   "cell_type": "markdown",
   "id": "46aa412d-cb31-4056-b21b-266d33dcdd1c",
   "metadata": {},
   "source": [
    "# Тип данных "
   ]
  },
  {
   "cell_type": "code",
   "execution_count": null,
   "id": "c86a58ac-d12a-49b3-bf92-dbeadde1e59b",
   "metadata": {},
   "outputs": [],
   "source": [
    "# тип данных \n",
    "averages.dtypes"
   ]
  },
  {
   "cell_type": "code",
   "execution_count": null,
   "id": "8ad568d6-2a13-46d6-b42a-4427bd39037f",
   "metadata": {},
   "outputs": [],
   "source": [
    "# привести к типу данных \n",
    "# привожу к одному типу\n",
    "loyal_click_s['old_id'] = loyal_click_s.old_id.astype('int64')\n",
    "loyal_level['old_id'] = loyal_level.old_id.astype('int64')\n",
    "loyal_click_s['month'] = loyal_click_s.month.astype('str')\n",
    "loyal_level['month'] = loyal_level.month.astype('str')\n",
    "\n",
    "# изменение типа данных в одну строку\n",
    "df = df.astype({'col_float1': 'int', 'col_float2': 'int', 'col_string': 'str'})\n"
   ]
  },
  {
   "cell_type": "code",
   "execution_count": null,
   "id": "329d1252-db74-4310-ae47-4f67784a8bb3",
   "metadata": {},
   "outputs": [],
   "source": [
    "# Заполнить nan на 0 \n",
    "df['A'] = df['A'].fillna(0)\n"
   ]
  },
  {
   "cell_type": "markdown",
   "id": "6fd7a8d1-3896-47fe-b305-a8b7243e7795",
   "metadata": {},
   "source": [
    "# Вывод датафрейма"
   ]
  },
  {
   "cell_type": "code",
   "execution_count": null,
   "id": "6cb58ba4-5376-4d86-a6c9-7b5d7b00616a",
   "metadata": {},
   "outputs": [],
   "source": [
    "# Установить максимальную ширину столбца на None\n",
    "pd.set_option('display.max_colwidth', None)  \n",
    "\n",
    "# Установить кол-во строк для вывода\n",
    "pd.set_option('display.max_rows', 10) \n",
    "\n"
   ]
  },
  {
   "cell_type": "code",
   "execution_count": null,
   "id": "e762c2f0-49d0-460d-956b-0c263675bb4f",
   "metadata": {},
   "outputs": [],
   "source": [
    "# чтобы не показывало числа черезe+4 Устанавливаем формат отображения чисел\n",
    "pd.set_option('display.float_format', lambda x: '%.2f' % x)\n",
    "\n",
    "\n",
    "# Форматируем числа с разделением разрядов\n",
    "df['gmv'] = df['gmv'].apply(lambda x: f\"{x:_}\")\n",
    "df"
   ]
  },
  {
   "cell_type": "markdown",
   "id": "33d9720f-865e-496f-95ea-f0ddcdc09c79",
   "metadata": {},
   "source": [
    "# Агрегаты и операции с df"
   ]
  },
  {
   "cell_type": "code",
   "execution_count": null,
   "id": "c8b51b91-8bce-46ec-ae9e-6e310a62d951",
   "metadata": {},
   "outputs": [],
   "source": [
    "# посчитать уникальное кол-во по группам \n",
    "averages.groupby('group', observed=False).size().reset_index(name='count')\n",
    "\n",
    "# по нескольким атрибутам\n",
    "full_info.groupby(by = ['tariff_id', '_merge'], observed=False).size().reset_index(name='count')\n",
    "\n",
    "# не выводить строки, в которых count = 0\n",
    "full_info.groupby(by=['tariff_id', '_merge'], observed=False).size().reset_index(name='count').query('count > 0')\n",
    "\n",
    "# переписать индекс\n",
    "full_info.groupby(by=['tariff_id', '_merge', 'group'], observed=False).size().reset_index(name='count').query('count > 0').reset_index(drop = True)\n",
    "\n",
    "\n",
    "\n",
    "# посчитать % от группы и % отн всех\n",
    "\n",
    "fin_view_group = result_without_user.groupby(by=['view_communication', 'group'], observed=False).size().reset_index(name='count').sort_values('view_communication', ascending = False).query('count > 0')\n",
    "fin_view_group['% отн view'] = fin_view_group.groupby('view_communication')['count'].transform(lambda x: 100 * x / x.sum()).round(2)\n",
    "fin_view_group['% отн тотал'] = fin_view_group['count'].transform(lambda x: 100 * x / x.sum()).round(2)\n"
   ]
  },
  {
   "cell_type": "code",
   "execution_count": null,
   "id": "92bf2d4e-a4ff-4613-8aab-747c1e72b975",
   "metadata": {},
   "outputs": [],
   "source": [
    "# посчитать сумму по всем полям\n",
    "summed_df = df.groupby('group_col', as_index=False).sum()\n",
    "\n",
    "# сумма\n",
    " # Группируем данные по 'Name' и 'Fruit', подсчитываем значения в 'Number'\n",
    "df_summary = df.groupby(['Name', 'Fruit'])['Number'].sum().reset_index()\n",
    "\n",
    "# посчитать сумму по нескольким столбцам\n",
    "potential_ = potential.groupby(by=['tariff_id'], observed=False).agg(\n",
    "    {'positive_cnt': 'sum',\n",
    "    'negative_cnt': 'sum'\n",
    "    }\n",
    ").reset_index()\n",
    "\n",
    "# Расчет статистических показателей в один запрос\n",
    "stats_df = df['count_parent'].agg(['max', 'min', 'mean', 'median']).reset_index()\n",
    "stats_df.columns = ['Statistic', 'Value']  # Переименование столбцов\n",
    "\n",
    "\n",
    "# посчитать долю отн тотала\n",
    "# доля во всех строках count отн суммы по count\n",
    "result_without_user_int['count'].transform(lambda x: 100 * x / x.sum())\n",
    "\n",
    "# доля Salary отн группировки по Department\n",
    "df.groupby('Department')['Salary'].transform(lambda x: x/x.sum())\n",
    "\n",
    "# И напротив каждой строки будет указана минимальная сумма з/пл в отделе.\n",
    "df['min'] = df.groupby('Department')['Salary'].transform('min')\n"
   ]
  },
  {
   "cell_type": "code",
   "execution_count": null,
   "id": "ba4dce3e-4ff3-409d-be31-5e822297db38",
   "metadata": {},
   "outputs": [],
   "source": [
    "#  посчитаем среднее и медианное значение в группе \n",
    "df.groupby('subscription')['gmv'].agg(['mean', 'median']).reset_index()\n",
    "\n",
    "# сделаем то же самое, но с кастомным названием и делением значения на 1млн (для краткого представления инфы)\n",
    "\n",
    "jam_wind_gmv.groupby('subscription', observed=False).agg(\n",
    "    Средний_GMV_млн=('gmv', lambda x: x.mean() / 1_000_000),\n",
    "    Медианный_GMV_млн=('gmv', lambda x: x.median() / 1_000_000),\n",
    "    Количество_селлеров=('old_id','nunique')\n",
    ").reset_index()\n"
   ]
  },
  {
   "cell_type": "code",
   "execution_count": null,
   "id": "3dabb4c1-784e-492f-8941-dd55cb7f49f2",
   "metadata": {},
   "outputs": [],
   "source": [
    "# просуммировать значения по столбцам line_columns датафрейма segment_cnt\n",
    "\n",
    "# названия столбцов для суммы\n",
    "line_columns = ['line 1', 'line 2', 'line 3', 'line 4', 'line 5']\n",
    "# сумма по столбцам - лист\n",
    "total_sum = segment_cnt[line_columns].sum()\n",
    "# датафрейм из  листа\n",
    "line_sum = pd.DataFrame(total_sum).reset_index()\n",
    "# Переименовываем столбцы\n",
    "line_sum.columns = ['line', 'total']  \n",
    "line_sum\n"
   ]
  },
  {
   "cell_type": "code",
   "execution_count": null,
   "id": "54136e92-4931-470f-94e7-8c549f82e60a",
   "metadata": {},
   "outputs": [],
   "source": [
    "# Найти дубли \n",
    "df.duplicated()\n",
    "df['id'].duplicated()\n",
    "\n",
    "# Удаляем дубликаты по столбцам 'A' и 'C'\n",
    "df_unique = df.drop_duplicates(subset=['A', 'C'])  # Subset – надежный помощник в работе с дубликатами!\n"
   ]
  },
  {
   "cell_type": "code",
   "execution_count": null,
   "id": "2597f8f6-f996-485b-8027-28b4b994c31d",
   "metadata": {},
   "outputs": [],
   "source": [
    "# Отсортировать df по нескольким полям\n",
    "check_.sort_values(by = ['group', 'info', 'finance_id'], ascending = [True, False, True] )\n"
   ]
  },
  {
   "cell_type": "code",
   "execution_count": null,
   "id": "34e9a1be-e877-47f7-8b24-bda5bdf7f5b8",
   "metadata": {},
   "outputs": [],
   "source": [
    "# Удалить колонки\n",
    "check = check.drop(columns = 'Unnamed: 0')\n"
   ]
  },
  {
   "cell_type": "code",
   "execution_count": null,
   "id": "d97056e0-1059-4ef7-903a-db0d207eff3e",
   "metadata": {},
   "outputs": [],
   "source": [
    "# Объединить два df \n",
    "check_ = check.merge(full_info_, on = 'old_id', how = 'inner', indicator = True\n",
    "                    )"
   ]
  },
  {
   "cell_type": "code",
   "execution_count": null,
   "id": "4f8cd767-c5a2-42e5-8b4d-81c8834a8a41",
   "metadata": {},
   "outputs": [],
   "source": [
    "# Переименовать поля \n",
    "window_ = window_.rename(columns={'supplier_id':'old_id', 'supplier_uuid':'supplier_id'})\n",
    "\n",
    "both['_merge'] = both['_merge'].cat.rename_categories({'left_only':'jam', 'right_only':'window'})\n"
   ]
  },
  {
   "cell_type": "code",
   "execution_count": null,
   "id": "52b1a75f-4ad2-46ef-b056-3eaffaec5560",
   "metadata": {},
   "outputs": [],
   "source": []
  },
  {
   "cell_type": "markdown",
   "id": "5f4bf12e-45e5-493f-b549-43d7405c9e36",
   "metadata": {},
   "source": [
    "# Добавить новое поле по условиям "
   ]
  },
  {
   "cell_type": "code",
   "execution_count": null,
   "id": "81fe7c6b-5e9a-42ac-b156-3271ad11a264",
   "metadata": {},
   "outputs": [],
   "source": [
    "# если первый и второй user не равен owner_id и comment = ''\n",
    "sorted_df['comment'] = sorted_df.apply(\n",
    "    lambda row: 'YES' if (sorted_df['user'].iloc[0] != row['owner_id'] and \n",
    "                          sorted_df['user'].iloc[1] != row['owner_id'] and \n",
    "                          row['comment'] == '') else row['comment'],\n",
    "    axis=1\n",
    ")\n",
    "\n",
    "sorted_df['comment'] = sorted_df.apply(\n",
    "    lambda row: 'YES' if (sorted_df['user'].iloc[0] != row['owner_id'] and \n",
    "                          sorted_df['user'].iloc[1] != row['owner_id'] and \n",
    "                          row['comment'] == '') else 'NO',\n",
    "    axis=1\n",
    ")"
   ]
  },
  {
   "cell_type": "markdown",
   "id": "a0c74e72-a112-40a5-a02f-8d96b79da613",
   "metadata": {},
   "source": [
    "# Преобразовать дату-время в дату \n"
   ]
  },
  {
   "cell_type": "code",
   "execution_count": null,
   "id": "81d77dd7-4543-4400-b532-1bcaf54fc8a5",
   "metadata": {},
   "outputs": [],
   "source": [
    "wind_active['started_at'] = pd.to_datetime(wind_active['started_at'], errors='coerce')\n",
    "\n",
    "wind_active['started_at'] = wind_active['started_at'].dt.date"
   ]
  },
  {
   "cell_type": "markdown",
   "id": "a588c274-abaf-4194-818a-f635175731e5",
   "metadata": {},
   "source": [
    "# Операции с полями"
   ]
  },
  {
   "cell_type": "code",
   "execution_count": null,
   "id": "acd5a885-ae5d-4b7d-8d7b-2446c6c8b1d7",
   "metadata": {},
   "outputs": [],
   "source": [
    "# заполнить NaN\n",
    "df.fillna({'col1': val1, 'col2': val2}, inplace=True)\n",
    "\n",
    "\n",
    "# Замена наполнения столбца по условию (нет на 0)\n",
    "df['столбец'] = df['столбец'].replace('нет', 0)\n",
    "# https://sky.pro/wiki/python/zamena-znacheniy-v-stolbtse-data-frame-v-pandas-varianty-resheniya/\n",
    "df['A'].replace({10: 'десять', 20: 'двадцать'}, inplace=True)\n",
    "\n",
    "\n",
    "# Преобразование столбца в тип int64\n",
    "df['столбец'] = df['столбец'].astype('int64')\n",
    "\n",
    "# Фильтрация строк, где level_id равно NaN\n",
    "filtered_df = df[df['level_id'].isna()]"
   ]
  },
  {
   "cell_type": "markdown",
   "id": "1fad960e-80b0-4399-b1bb-ca8d54f163d1",
   "metadata": {},
   "source": [
    "# Новый атрибут"
   ]
  },
  {
   "cell_type": "code",
   "execution_count": null,
   "id": "1ff7033a-cbe2-4cc3-b4f6-6f5bc6a87060",
   "metadata": {},
   "outputs": [],
   "source": [
    "# Атрибут через where \n",
    "only_ids['new_column'] = np.where(\n",
    "    (only_ids['creator_id'] != only_ids['owner_id']) & (only_ids['creator_id'] != 0),\n",
    "    'Condition Met',  # Значение, если условие выполняется\n",
    "    'Condition Not Met'  # Значение, если условие не выполняется\n",
    ")"
   ]
  },
  {
   "cell_type": "code",
   "execution_count": null,
   "id": "ccee2219-cfac-4d97-9433-ea393137f0f3",
   "metadata": {},
   "outputs": [],
   "source": [
    "# Добавление нового атрибута через функцию \n",
    "\n",
    "# Функция для вычисления нового столбца\n",
    "def calculate_new_column(row):\n",
    "    if row['creator_id'] == row['owner_id'] and row['creator_id'] != 0:\n",
    "        return \"Нет\"\n",
    "    elif row['creator_id'] != row['owner_id'] and row['creator_id'] != 0:\n",
    "        return \"Да\"\n",
    "    elif row['creator_id'] == 0:\n",
    "        # Проверяем, есть ли users и owner_id не равен первому элементу\n",
    "        if row['users'] and row['owner_id'] != row['users'][0]:\n",
    "            return \"Возможно\"\n",
    "    return None  # Если ни одно из условий не выполнено\n",
    "\n",
    "# Применяем функцию к каждой строке\n",
    "df['new_column'] = df.apply(calculate_new_column, axis=1)\n"
   ]
  },
  {
   "cell_type": "code",
   "execution_count": null,
   "id": "2eafed74-3bda-4977-8ba4-fc7c1a3c1299",
   "metadata": {},
   "outputs": [],
   "source": [
    "bins = [0, 10000000, 20000000, 30000000, 40000000, 50000000, 60000000, np.inf]\n",
    "labels = ['до 10млн', '10млн - 20млн', '20млн - 30млн', '30млн - 40млн', '40млн - 50млн', '50млн - 60млн', '60млн +']\n",
    "\n",
    "# Создаем новый столбец 'group' на основе значений в 'gmv'\n",
    "rich['group'] = pd.cut(rich['gmv'], bins=bins, labels=labels, right=False)\n",
    "rich"
   ]
  },
  {
   "cell_type": "code",
   "execution_count": null,
   "id": "a0161e34-f5f9-463c-8d99-c5fa0046363c",
   "metadata": {},
   "outputs": [],
   "source": [
    "((df4_metrics['avg_gmv_before_august']< 50000)|(df4_metrics['avg_gmv_before_august'].isna()), '0-50000',\n",
    "        np.where (df4_metrics['avg_gmv_before_august']< 100000, '50000-100000',\n",
    "        np.where (df4_metrics['avg_gmv_before_august']< 500000, '100000-500000',\n",
    "        np.where (df4_metrics['avg_gmv_before_august']< 1000000, '500 000-1 000 000',\n",
    "        np.where (df4_metrics['avg_gmv_before_august']< 5000000, '1000000-5000000',\n",
    "    np.where (df4_metrics['avg_gmv_before_august']< 10 000 000, '5000000-10000000', '10000000+'))))))\n",
    "\n"
   ]
  },
  {
   "cell_type": "code",
   "execution_count": null,
   "id": "837fad23-1316-458f-a6a5-af27b7324c7a",
   "metadata": {},
   "outputs": [],
   "source": []
  },
  {
   "cell_type": "markdown",
   "id": "42b837e1-3945-4ea3-bbe1-0430be1b7f5d",
   "metadata": {},
   "source": [
    "# Объединение нескольких строк в одну строку с написанием значений через запятую"
   ]
  },
  {
   "cell_type": "code",
   "execution_count": null,
   "id": "42976b3a-7361-4192-b39c-63bb98be7311",
   "metadata": {},
   "outputs": [],
   "source": [
    "# для одного old_id много категорий\n",
    "\n",
    "# Объединение parent_id и parent_name в одну строку через запятую\n",
    "# cat_ = cat.groupby('old_id').agg({\n",
    "#     'parent_id': lambda x: ', '.join(x.astype(str)),  # Преобразование в строки\n",
    "#     'parent_name': ', '.join\n",
    "# }).reset_index()\n",
    "cat_ = cat.groupby('old_id').agg({\n",
    "    'parent_id': lambda x: ', '.join(x.fillna('').astype(str)),  # Преобразование в строки и замена NaN\n",
    "    'parent_name': lambda x: ', '.join(x.fillna(''))  # Аналогично для parent_name\n",
    "}).reset_index()\n",
    "\n",
    "cat_"
   ]
  },
  {
   "cell_type": "code",
   "execution_count": null,
   "id": "57e1748c-f6df-4675-9d1f-079886d8581e",
   "metadata": {},
   "outputs": [],
   "source": []
  },
  {
   "cell_type": "code",
   "execution_count": null,
   "id": "016aee46-b22d-43eb-9df1-b6511e6d208b",
   "metadata": {},
   "outputs": [],
   "source": []
  },
  {
   "cell_type": "markdown",
   "id": "c62b9b02-762c-4aee-847e-06010e574b13",
   "metadata": {},
   "source": [
    "# Транспонирование датафрейма"
   ]
  },
  {
   "cell_type": "code",
   "execution_count": 2,
   "id": "7ba6d215-8c7b-4779-bf42-31df3bdd6f31",
   "metadata": {
    "execution": {
     "iopub.execute_input": "2025-03-25T12:20:26.653366Z",
     "iopub.status.busy": "2025-03-25T12:20:26.653026Z",
     "iopub.status.idle": "2025-03-25T12:20:26.657146Z",
     "shell.execute_reply": "2025-03-25T12:20:26.656535Z",
     "shell.execute_reply.started": "2025-03-25T12:20:26.653346Z"
    }
   },
   "outputs": [],
   "source": [
    "search_.T\n",
    "\n",
    "# один из столбцов поставить в название \n",
    "search_.set_index('tariff_id').T\n",
    "\n",
    "# сохранила вид типа данных (что было инт - осталось без плавающей точки, а что было float - осталось float)\n",
    "search_positive.astype(str).set_index('tariff_id').T\n"
   ]
  },
  {
   "cell_type": "code",
   "execution_count": null,
   "id": "fda3d2fb-948c-41dc-9a82-2f6d22f37dc8",
   "metadata": {},
   "outputs": [],
   "source": [
    "# Выделить из df=only_ids_ строки, в которых атрибут owner_id находится в списке single_user_ids\n",
    "only_ids_one_user = only_ids_[only_ids_['owner_id'].isin(single_user_ids)]\n",
    "\n",
    "\n",
    " # в которых атрибут owner_id НЕ находится в списке single_user_ids\n",
    "\n",
    "only_ids_sev_users = only_ids_[only_ids_['owner_id'].~isin(single_user_ids)]\n"
   ]
  },
  {
   "cell_type": "markdown",
   "id": "f370dea0-59b4-4a0c-8f0b-4bdf3a6ba5d9",
   "metadata": {},
   "source": [
    "# Разделитель в числа"
   ]
  },
  {
   "cell_type": "code",
   "execution_count": null,
   "id": "79b22d5c-7392-4740-aaef-d7ff308d5f9d",
   "metadata": {},
   "outputs": [],
   "source": [
    "# числа с разделением разрядов _\n",
    "df['gmv'] = df['gmv'].apply(lambda x: f\"{x:_}\")\n",
    "# разделитель запятая\n",
    "line_sum['total'] = line_sum['total'].apply(lambda x: f\"{x:,.2f}\")\n",
    "#  разделитель пробел (заменить запятую)\n",
    "line_sum['total'].apply(lambda x: f\"{x:,.2f}\".replace(',', ' '))\n",
    "\n",
    "# разделить на 1млн\n",
    "result_full_group = jam_wind_gmv.groupby('subscription', observed=False).agg(\n",
    "    Средний_GMV_млн=('gmv', lambda x: x.mean() / 1_000_000),\n",
    "    Медианный_GMV_млн=('gmv', lambda x: x.median() / 1_000_000),\n",
    "    Кол_во_селлеров=('old_id','nunique')\n",
    ").reset_index()\n"
   ]
  },
  {
   "cell_type": "markdown",
   "id": "116e55c5-e6b2-4256-b07f-ba59c51b276e",
   "metadata": {},
   "source": [
    "# Замена значений в датафрейме"
   ]
  },
  {
   "cell_type": "code",
   "execution_count": null,
   "id": "b9561f1f-0365-4968-89e5-9a0c044add63",
   "metadata": {},
   "outputs": [],
   "source": [
    "gender_map = {'female': 1, 'male': 0}\n",
    "df['Gender'] = df['Gender'].map(gender_map)\n",
    "\n",
    "\n",
    "# или \n",
    "df['A'].replace({10: 'десять', 20: 'двадцать'}, inplace=True)\n"
   ]
  },
  {
   "cell_type": "markdown",
   "id": "6c3e16a8-cf7f-465e-8526-0309f63197f0",
   "metadata": {},
   "source": [
    "# Эксель и csv"
   ]
  },
  {
   "attachments": {},
   "cell_type": "markdown",
   "id": "2028b022-b107-448c-97e3-5cf7b75a6d66",
   "metadata": {},
   "source": []
  },
  {
   "cell_type": "code",
   "execution_count": null,
   "id": "e50d9b85-6eeb-4ee2-9afb-c9ef8c70381b",
   "metadata": {},
   "outputs": [],
   "source": [
    "sellers = pd.read_csv('/home/baislamova.u/выгрузки/club.csv')\n",
    "sellers_loyal.to_csv('/home/baislamova.u/выгрузки/club.csv', index=False)\n"
   ]
  },
  {
   "cell_type": "code",
   "execution_count": null,
   "id": "f3d20b74-747e-4b28-8846-4666630c291b",
   "metadata": {},
   "outputs": [],
   "source": [
    "check = pd.read_excel('/home/baislamova.u/Видят ли оунеры бизнеса наши коммуникации/for_Ulyana_check.xlsx')\n",
    "check_.to_excel('/home/baislamova.u/Видят ли оунеры бизнеса наши коммуникации/for_Ulyana_checked.xlsx')\n"
   ]
  },
  {
   "cell_type": "code",
   "execution_count": null,
   "id": "47b314dd-4187-4325-92c5-9f827acbf510",
   "metadata": {},
   "outputs": [],
   "source": [
    "# Загрузка CSV файла, пропуская первую строку и используя вторую как заголовки\n",
    "df = pd.read_csv('ваш_файл.csv', skiprows=1)"
   ]
  },
  {
   "cell_type": "code",
   "execution_count": null,
   "id": "549fca36-8bcd-4222-be3a-922bbfa24070",
   "metadata": {},
   "outputs": [],
   "source": [
    "# вытаскиваю словарь id селлеров\n",
    "suppliers_dict = pd.read_csv('/home/baislamova.u/suppliers_dict.csv')\n",
    "suppliers_dict = suppliers_dict.drop(columns = {'country_id', 'countrycode', 'created_at'})\n",
    "suppliers_dict = suppliers_dict.rename(columns = {'_id': 'supplier_id'})\n",
    "suppliers_dict\n"
   ]
  },
  {
   "cell_type": "code",
   "execution_count": null,
   "id": "d46e7c30-c17a-4f20-af91-e75642151c19",
   "metadata": {},
   "outputs": [],
   "source": []
  },
  {
   "cell_type": "code",
   "execution_count": null,
   "id": "d519a394-ffbe-4fe5-a256-d483a52115d1",
   "metadata": {},
   "outputs": [],
   "source": []
  },
  {
   "cell_type": "code",
   "execution_count": null,
   "id": "7f3cf82e-8bf9-483c-ba31-6f70935c77db",
   "metadata": {},
   "outputs": [],
   "source": []
  },
  {
   "cell_type": "code",
   "execution_count": null,
   "id": "5cb66222-ddba-4e6c-91aa-f97f0c484cb6",
   "metadata": {},
   "outputs": [],
   "source": []
  }
 ],
 "metadata": {
  "kernelspec": {
   "display_name": "Python 3 (ipykernel)",
   "language": "python",
   "name": "python3"
  },
  "language_info": {
   "codemirror_mode": {
    "name": "ipython",
    "version": 3
   },
   "file_extension": ".py",
   "mimetype": "text/x-python",
   "name": "python",
   "nbconvert_exporter": "python",
   "pygments_lexer": "ipython3",
   "version": "3.11.3"
  }
 },
 "nbformat": 4,
 "nbformat_minor": 5
}
